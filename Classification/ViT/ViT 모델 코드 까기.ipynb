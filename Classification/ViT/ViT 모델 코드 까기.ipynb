{
 "cells": [
  {
   "cell_type": "code",
   "execution_count": 1,
   "metadata": {},
   "outputs": [],
   "source": [
    "import logging\n",
    "import argparse\n",
    "import os\n",
    "import random\n",
    "import numpy as np\n",
    "\n",
    "from datetime import timedelta\n",
    "\n",
    "import torch\n",
    "import torch.distributed as dist\n",
    "\n",
    "from tqdm import tqdm\n",
    "from torch.utils.tensorboard import SummaryWriter\n",
    "\n",
    "#from apex import amp\n",
    "#from apex.parallel import DistributedDataParallel as DDP\n",
    "\n",
    "from models.modeling import VisionTransformer, CONFIGS\n",
    "from utils.scheduler import WarmupLinearSchedule, WarmupCosineSchedule\n",
    "from utils.data_utils import get_loader\n",
    "from utils.dist_util import get_world_size\n",
    "\n",
    "from torch.nn import CrossEntropyLoss, Dropout, Softmax, Linear, Conv2d, LayerNorm\n",
    "\n",
    "import logging\n",
    "\n",
    "import torch\n",
    "import torch.nn as nn\n",
    "\n",
    "import math\n",
    "\n",
    "from torchvision import transforms, datasets\n",
    "from torch.utils.data import DataLoader, RandomSampler, DistributedSampler, SequentialSampler"
   ]
  },
  {
   "cell_type": "code",
   "execution_count": 2,
   "metadata": {},
   "outputs": [
    {
     "name": "stdout",
     "output_type": "stream",
     "text": [
      "Files already downloaded and verified\n",
      "Files already downloaded and verified\n"
     ]
    }
   ],
   "source": [
    "img_size = 224\n",
    "\n",
    "transform_train = transforms.Compose([\n",
    "    transforms.RandomResizedCrop((img_size, img_size), scale=(0.05, 1.0)),\n",
    "    transforms.ToTensor(),\n",
    "    transforms.Normalize(mean=[0.5, 0.5, 0.5], std=[0.5, 0.5, 0.5]),\n",
    "])\n",
    "transform_test = transforms.Compose([\n",
    "    transforms.Resize((img_size, img_size)),\n",
    "    transforms.ToTensor(),\n",
    "    transforms.Normalize(mean=[0.5, 0.5, 0.5], std=[0.5, 0.5, 0.5]),\n",
    "])\n",
    "\n",
    "trainset = datasets.CIFAR10(root=\"./data\",\n",
    "                            train=True,\n",
    "                            download=True,\n",
    "                            transform=transform_train)\n",
    "testset = datasets.CIFAR10(root=\"./data\",\n",
    "                           train=False,\n",
    "                           download=True,\n",
    "                           transform=transform_test)\n",
    "\n",
    "train_sampler = RandomSampler(trainset)# if args.local_rank == -1 else DistributedSampler(trainset)\n",
    "test_sampler = SequentialSampler(testset)\n",
    "\n",
    "train_loader = DataLoader(trainset,\n",
    "                          sampler=train_sampler,\n",
    "                          batch_size=4,\n",
    "                          num_workers=4)\n",
    "test_loader = DataLoader(testset,\n",
    "                         sampler=test_sampler,\n",
    "                         batch_size=1,\n",
    "                         num_workers=4)"
   ]
  },
  {
   "cell_type": "code",
   "execution_count": null,
   "metadata": {},
   "outputs": [],
   "source": []
  },
  {
   "cell_type": "code",
   "execution_count": null,
   "metadata": {},
   "outputs": [],
   "source": []
  },
  {
   "cell_type": "code",
   "execution_count": 6,
   "metadata": {},
   "outputs": [],
   "source": [
    "class Embeddings(nn.Module):\n",
    "    \"\"\"Construct the embeddings from patch, position embeddings.\n",
    "    \"\"\"\n",
    "    def __init__(self, config, img_size, in_channels=3):\n",
    "        super(Embeddings, self).__init__()\n",
    "        self.hybrid = None\n",
    "        img_size = _pair(img_size)\n",
    "\n",
    "\n",
    "        patch_size = _pair(config.patches[\"size\"])\n",
    "        n_patches = (img_size[0] // patch_size[0]) * (img_size[1] // patch_size[1])\n",
    "        self.hybrid = False\n",
    "\n",
    "        self.patch_embeddings = Conv2d(in_channels=3,\n",
    "                                       out_channels=768,\n",
    "                                       kernel_size=(16, 16),\n",
    "                                       stride=(16, 16))\n",
    "        self.position_embeddings = nn.Parameter(torch.zeros(1, n_patches+1, config.hidden_size))\n",
    "        self.cls_token = nn.Parameter(torch.zeros(1, 1, config.hidden_size))\n",
    "\n",
    "        self.dropout = Dropout(config.transformer[\"dropout_rate\"])\n",
    "\n",
    "    def forward(self, x):\n",
    "        B = x.shape[0]     # 1\n",
    "        cls_tokens = self.cls_token.expand(B, -1, -1)\n",
    "\n",
    "        if self.hybrid:\n",
    "            x = self.hybrid_model(x)\n",
    "        x = self.patch_embeddings(x)\n",
    "        x = x.flatten(2)\n",
    "        x = x.transpose(-1, -2)\n",
    "        x = torch.cat((cls_tokens, x), dim=1)\n",
    "\n",
    "        embeddings = x + self.position_embeddings\n",
    "        embeddings = self.dropout(embeddings)\n",
    "        return embeddings"
   ]
  },
  {
   "cell_type": "code",
   "execution_count": 14,
   "metadata": {},
   "outputs": [],
   "source": [
    "config = CONFIGS['R50-ViT-B_16']"
   ]
  },
  {
   "cell_type": "markdown",
   "metadata": {},
   "source": [
    "CONFIGS = {\n",
    "    'ViT-B_16': configs.get_b16_config(),\n",
    "    'ViT-B_32': configs.get_b32_config(),\n",
    "    'ViT-L_16': configs.get_l16_config(),\n",
    "    'ViT-L_32': configs.get_l32_config(),\n",
    "    'ViT-H_14': configs.get_h14_config(),\n",
    "    'R50-ViT-B_16': configs.get_r50_b16_config(),\n",
    "    'testing': configs.get_testing(),\n",
    "}"
   ]
  },
  {
   "cell_type": "code",
   "execution_count": null,
   "metadata": {},
   "outputs": [],
   "source": []
  },
  {
   "cell_type": "code",
   "execution_count": null,
   "metadata": {},
   "outputs": [],
   "source": []
  },
  {
   "cell_type": "markdown",
   "metadata": {},
   "source": [
    "embedding = Embeddings(config, img_size)"
   ]
  },
  {
   "cell_type": "markdown",
   "metadata": {},
   "source": [
    "embedding_output = embedding(input_)"
   ]
  },
  {
   "cell_type": "markdown",
   "metadata": {},
   "source": [
    "# patch embedding + position embedding"
   ]
  },
  {
   "cell_type": "code",
   "execution_count": 43,
   "metadata": {},
   "outputs": [
    {
     "data": {
      "image/png": "[encoded data removed]",
      "text/plain": [
       "<PIL.Image.Image image mode=RGB size=224x224 at 0x7FF725FC1FD0>"
      ]
     },
     "execution_count": 43,
     "metadata": {},
     "output_type": "execute_result"
    }
   ],
   "source": [
    "transforms.ToPILImage()(trainset[0][0])"
   ]
  },
  {
   "cell_type": "code",
   "execution_count": 56,
   "metadata": {},
   "outputs": [
    {
     "name": "stdout",
     "output_type": "stream",
     "text": [
      "Input Size : torch.Size([1, 3, 224, 224])\n"
     ]
    }
   ],
   "source": [
    "input_ = trainset[0][0].unsqueeze(0)\n",
    "B = input_.shape[0]\n",
    "print(\"Input Size : {}\".format(input_.size()))"
   ]
  },
  {
   "cell_type": "code",
   "execution_count": null,
   "metadata": {},
   "outputs": [],
   "source": []
  },
  {
   "cell_type": "code",
   "execution_count": 54,
   "metadata": {},
   "outputs": [],
   "source": [
    "input_ = trainset[0][0].unsqueeze(0)\n",
    "B = input_.shape[0]\n",
    "\n",
    "n_patches=196\n",
    "\n",
    "dropout_ = Dropout(config.transformer[\"dropout_rate\"])\n",
    "position_embeddings_ = nn.Parameter(torch.zeros(1, n_patches+1, config.hidden_size)) # (1, 197, 768)\n",
    "cls_tokens_ = nn.Parameter(torch.zeros(1, 1, config.hidden_size))\n",
    "cls_tokens = cls_tokens_.expand(B, -1, -1)\n",
    "\n",
    "patch_embeddings_ =  Conv2d(in_channels=3,\n",
    "                            out_channels=768,\n",
    "                            kernel_size=(16, 16),\n",
    "                            stride=(16, 16))\n",
    "\n",
    "x = patch_embeddings_(input_)           #  in paper  Linear Projection of Flattened Patches\n",
    "\n",
    "\n",
    "x = x.flatten(2)\n",
    "x = x.transpose(-1, -2)\n",
    "x = torch.cat((cls_tokens, x), dim=1)   # (1, 197, 768)\n",
    "\n",
    "embeddings = x + position_embeddings_   # position embeddings -> patch에 위치정보 부여\n",
    "embeddings = dropout_(embeddings)       # (1, 197, 768)"
   ]
  },
  {
   "cell_type": "code",
   "execution_count": null,
   "metadata": {},
   "outputs": [],
   "source": []
  },
  {
   "cell_type": "code",
   "execution_count": 60,
   "metadata": {},
   "outputs": [],
   "source": [
    "patch_embeddings_ =  Conv2d(in_channels=3,\n",
    "                            out_channels=768,\n",
    "                            kernel_size=(16, 16),\n",
    "                            stride=(16, 16))\n",
    "\n",
    "x = patch_embeddings_(input_)           #  in paper  Linear Projection of Flattened Patches"
   ]
  },
  {
   "cell_type": "code",
   "execution_count": 61,
   "metadata": {},
   "outputs": [
    {
     "name": "stdout",
     "output_type": "stream",
     "text": [
      "torch.Size([1, 197, 768])\n"
     ]
    }
   ],
   "source": [
    "cls_tokens_ = nn.Parameter(torch.zeros(1, 1, config.hidden_size))\n",
    "cls_tokens = cls_tokens_.expand(B, -1, -1)\n",
    "\n",
    "x = x.flatten(2)\n",
    "x = x.transpose(-1, -2)\n",
    "x = torch.cat((cls_tokens, x), dim=1)   # (1, 197, 768)\n",
    "print(x.size())"
   ]
  },
  {
   "cell_type": "code",
   "execution_count": null,
   "metadata": {},
   "outputs": [],
   "source": []
  },
  {
   "cell_type": "code",
   "execution_count": 63,
   "metadata": {},
   "outputs": [
    {
     "name": "stdout",
     "output_type": "stream",
     "text": [
      "torch.Size([1, 197, 768])\n"
     ]
    }
   ],
   "source": [
    "dropout_ = Dropout(config.transformer[\"dropout_rate\"])\n",
    "position_embeddings_ = nn.Parameter(torch.zeros(1, n_patches+1, config.hidden_size)) # (1, 197, 768)\n",
    "\n",
    "embeddings = x + position_embeddings_   # position embeddings -> patch에 위치정보 부여\n",
    "embeddings = dropout_(embeddings)       # (1, 197, 768)\n",
    "print(embeddings.size())"
   ]
  },
  {
   "cell_type": "code",
   "execution_count": null,
   "metadata": {},
   "outputs": [],
   "source": []
  },
  {
   "cell_type": "code",
   "execution_count": null,
   "metadata": {},
   "outputs": [],
   "source": []
  },
  {
   "cell_type": "code",
   "execution_count": 23,
   "metadata": {
    "scrolled": true
   },
   "outputs": [],
   "source": [
    "hybrid_model = ResNetV2(block_units=config.resnet.num_layers,\n",
    "                                         width_factor=config.resnet.width_factor)"
   ]
  },
  {
   "cell_type": "code",
   "execution_count": null,
   "metadata": {},
   "outputs": [],
   "source": []
  },
  {
   "cell_type": "code",
   "execution_count": null,
   "metadata": {},
   "outputs": [],
   "source": []
  },
  {
   "cell_type": "markdown",
   "metadata": {},
   "source": [
    "# Transformer Encoder"
   ]
  },
  {
   "cell_type": "markdown",
   "metadata": {},
   "source": [
    "# Multi-head Attention"
   ]
  },
  {
   "cell_type": "code",
   "execution_count": null,
   "metadata": {},
   "outputs": [],
   "source": []
  },
  {
   "cell_type": "code",
   "execution_count": 78,
   "metadata": {},
   "outputs": [
    {
     "name": "stdout",
     "output_type": "stream",
     "text": [
      "torch.Size([1, 197, 768]) torch.Size([1, 197, 768]) torch.Size([1, 197, 768])\n"
     ]
    }
   ],
   "source": [
    "def transpose_for_scores(x):\n",
    "    new_x_shape = x.size()[:-1] + (num_attention_heads, attention_head_size)\n",
    "    x = x.view(*new_x_shape)\n",
    "    return x.permute(0, 2, 1, 3)\n",
    "\n",
    "\n",
    "vis = True\n",
    "num_attention_heads = config.transformer[\"num_heads\"]                 # 12\n",
    "attention_head_size = int(config.hidden_size / num_attention_heads)   # 64\n",
    "all_head_size = num_attention_heads * attention_head_size             # 768\n",
    "\n",
    "query_ = Linear(config.hidden_size, all_head_size)                    #  (768, 768)\n",
    "key_ = Linear(config.hidden_size, all_head_size)\n",
    "value_ = Linear(config.hidden_size, all_head_size)\n",
    "\n",
    "out_ = Linear(config.hidden_size, config.hidden_size)                  #  (768, 768)\n",
    "attn_dropout_ = Dropout(config.transformer[\"attention_dropout_rate\"])  # 0\n",
    "proj_dropout_ = Dropout(config.transformer[\"attention_dropout_rate\"])  # 0\n",
    "\n",
    "softmax_ = Softmax(dim=-1)\n",
    "\n",
    "\n",
    "attention_norm = LayerNorm(config.hidden_size, eps=1e-6)\n",
    "ffn_norm = LayerNorm(config.hidden_size, eps=1e-6)\n",
    "\n",
    "\n",
    "h = embeddings\n",
    "embeddings = attention_norm(embeddings)\n",
    "\n",
    "mixed_query_layer = query_(embeddings)\n",
    "mixed_key_layer = key_(embeddings)\n",
    "mixed_value_layer = value_(embeddings) # 1, 197, 768\n",
    "\n",
    "print(mixed_query_layer.size(), mixed_key_layer.size(), mixed_value_layer.size())"
   ]
  },
  {
   "cell_type": "code",
   "execution_count": null,
   "metadata": {},
   "outputs": [],
   "source": []
  },
  {
   "cell_type": "code",
   "execution_count": null,
   "metadata": {},
   "outputs": [],
   "source": []
  },
  {
   "cell_type": "code",
   "execution_count": 79,
   "metadata": {},
   "outputs": [
    {
     "name": "stdout",
     "output_type": "stream",
     "text": [
      "torch.Size([1, 197, 768])\n"
     ]
    }
   ],
   "source": [
    "attention_scores = torch.matmul(query_layer, key_layer.transpose(-1, -2))  # 1, 12, 197, 197\n",
    "attention_scores_ = attention_scores / math.sqrt(attention_head_size)\n",
    "attention_probs = softmax_(attention_scores_)\n",
    "weights = attention_probs if vis else None\n",
    "\n",
    "attention_probs = attn_dropout_(attention_probs)                            # 1, 12, 197, 197\n",
    "\n",
    "context_layer = torch.matmul(attention_probs, value_layer)                 # 1, 12, 197, 64\n",
    "context_layer = context_layer.permute(0, 2, 1, 3).contiguous()             # 1, 197, 12, 64\n",
    "\n",
    "new_context_layer_shape = context_layer.size()[:-2] + (all_head_size,)     # 1, 197, 768\n",
    "\n",
    "context_layer = context_layer.view(*new_context_layer_shape)               # 1, 197, 768\n",
    "\n",
    "attention_output = out_(context_layer)\n",
    "attention_output = proj_dropout_(attention_output)\n",
    "\n",
    "x = attention_output + h\n",
    "\n",
    "print(x.size())"
   ]
  },
  {
   "cell_type": "code",
   "execution_count": null,
   "metadata": {},
   "outputs": [],
   "source": []
  },
  {
   "cell_type": "code",
   "execution_count": null,
   "metadata": {},
   "outputs": [],
   "source": []
  },
  {
   "cell_type": "code",
   "execution_count": null,
   "metadata": {},
   "outputs": [],
   "source": []
  },
  {
   "cell_type": "code",
   "execution_count": null,
   "metadata": {},
   "outputs": [],
   "source": []
  },
  {
   "cell_type": "markdown",
   "metadata": {},
   "source": [
    "# mlp"
   ]
  },
  {
   "cell_type": "code",
   "execution_count": 32,
   "metadata": {},
   "outputs": [],
   "source": [
    "def _init_weights():\n",
    "    nn.init.xavier_uniform_(fc1.weight)\n",
    "    nn.init.xavier_uniform_(fc2.weight)\n",
    "    nn.init.normal_(fc1.bias, std=1e-6)\n",
    "    nn.init.normal_(fc2.bias, std=1e-6)\n",
    "\n",
    "fc1 = Linear(config.hidden_size, config.transformer[\"mlp_dim\"])\n",
    "fc2 = Linear(config.transformer[\"mlp_dim\"], config.hidden_size)\n",
    "act_fn = torch.nn.functional.gelu\n",
    "dropout = Dropout(config.transformer[\"dropout_rate\"])\n",
    "\n",
    "ffn_norm = LayerNorm(config.hidden_size, eps=1e-6)\n",
    "\n",
    "_init_weights()"
   ]
  },
  {
   "cell_type": "code",
   "execution_count": 80,
   "metadata": {},
   "outputs": [
    {
     "name": "stdout",
     "output_type": "stream",
     "text": [
      "torch.Size([1, 197, 768])\n"
     ]
    }
   ],
   "source": [
    "def _init_weights():\n",
    "    nn.init.xavier_uniform_(fc1.weight)\n",
    "    nn.init.xavier_uniform_(fc2.weight)\n",
    "    nn.init.normal_(fc1.bias, std=1e-6)\n",
    "    nn.init.normal_(fc2.bias, std=1e-6)\n",
    "\n",
    "fc1 = Linear(config.hidden_size, config.transformer[\"mlp_dim\"])\n",
    "fc2 = Linear(config.transformer[\"mlp_dim\"], config.hidden_size)\n",
    "act_fn = torch.nn.functional.gelu\n",
    "dropout = Dropout(config.transformer[\"dropout_rate\"])\n",
    "ffn_norm = LayerNorm(config.hidden_size, eps=1e-6)\n",
    "_init_weights()\n",
    "\n",
    "\n",
    "\n",
    "h = x\n",
    "x = ffn_norm(x)\n",
    "\n",
    "x = fc1(x)\n",
    "x = act_fn(x)\n",
    "x = dropout(x)\n",
    "x = fc2(x)\n",
    "x = dropout(x)\n",
    "\n",
    "x = x + h\n",
    "\n",
    "print(x.size())"
   ]
  },
  {
   "cell_type": "code",
   "execution_count": null,
   "metadata": {},
   "outputs": [],
   "source": []
  },
  {
   "cell_type": "code",
   "execution_count": null,
   "metadata": {},
   "outputs": [],
   "source": []
  },
  {
   "cell_type": "code",
   "execution_count": null,
   "metadata": {},
   "outputs": [],
   "source": []
  },
  {
   "cell_type": "code",
   "execution_count": null,
   "metadata": {},
   "outputs": [],
   "source": []
  }
 ],
 "metadata": {
  "kernelspec": {
   "display_name": "Python 3",
   "language": "python",
   "name": "python3"
  },
  "language_info": {
   "codemirror_mode": {
    "name": "ipython",
    "version": 3
   },
   "file_extension": ".py",
   "mimetype": "text/x-python",
   "name": "python",
   "nbconvert_exporter": "python",
   "pygments_lexer": "ipython3",
   "version": "3.7.9"
  }
 },
 "nbformat": 4,
 "nbformat_minor": 4
}
